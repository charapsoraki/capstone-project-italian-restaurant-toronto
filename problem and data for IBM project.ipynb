{
    "cells": [
        {
            "cell_type": "markdown",
            "metadata": {
                "collapsed": true
            },
            "source": "# Opening an Italian Restaurant in Toronto\n\n## 1.\tIntroduction\n\n### 1.1 Background\nToronto is the capital city of Ontario, Canada and has a recorded population of 2,731,571 in 2016. It is the most populous city in Canada and the fourth most populous city in North America. Toronto is home to many people from different cultures and many ethnicities. This diversity is reflected in Toronto's ethnic neighborhoods, which include Chinatown, Corso Italia, Greektown, Kensington Market, Koreatown, Little India, Little Italy, Little Jamaica, Little Portugal and Roncesvalles (Polish community).\n\nToronto is an international center for business and finance. It is also a cultural center with major Universities, and many arts and sports activities. This vibrant city provides many opportunities for young and enthusiastic individuals to open their own business and become a piece of this multidimensional city.\n\n### 1.2 Problem\nComing from a Greek/Italian family and with a long history in the hospitality sector, opening a modern Italian restaurant in Toronto is an obvious choice and an investment worth trying. However, even though Toronto has many opportunities to offer and it is a prosperous environment to open a business, the competition is rising day by day. Experts in the hospitality sector claim that **Location** is the number one factor in the success of a restaurant.\nThe main problem that this paper is going to examine is: \u201c what would be the ideal location to open an Italian restaurant in Toronto?\u201d.  Along with this question, several other subsequent questions about the demographics of the population are going to answered. \n\n### 1.3\tInterest\nThe results of this investigation will be used in building a business plan that will be used to attract investors. One example is the bank from which funds will be requested to make the initial investment. In order to receive the loan, a detailed plan and estimations need to be presented.\n\n## 2. Data\n\n### 2.1 Data sources\nThe Data that will be used in this research are extracted from the 2016 Canada Census : https://www12.statcan.gc.ca/census-recensement/2016/dp-pd/prof/details/Page.cfm?Lang=E&Geo1=CSD&Code1=3520005&Geo2=PR&Data=Count&B1=All\nSeveral demographic features will be presented such as: Population, age, income, family status and home location (Neighborhood).\n\nIn order to determine which is the ideal location to open an Italian restaurant, the different neighborhoods of Toronto are going to be examined. The data about the neighborhoods of Toronto are from Wikipedia: https://en.wikipedia.org/wiki/List_of_postal_codes_of_Canada:_M\n\nAfter gathering the location data and creating a dataframe, using the python **geopy** library and the python **folium**,  the different neighborhoods of Toronto will be shown in a map.\n\nThen, The location of the top 100 venues in a radius of 5000 meters in the neighborhoods of Toronto will be extracted using **Foursquare API**. More specifically, the Longitude, Latitude, Category Label, and Type of Venue will be gathered using the **GetNearbyVenues**. To analyze each neighborhood, we will use the **One hot encoding** function and then a new dataframe with the Italian restaurants in each neighborhood will be created.\n\nFinally, the we will **cluster** the neighborhoods based on their similarities. The **best K-value** will be identified and used to determine the number of clusters. By comparing the amount of restaurants in each cluster, we will determine which cluster of neighborhoods has the less competition in Italian restaurants and also explore the demographics of that cluster.\n"
        },
        {
            "cell_type": "markdown",
            "metadata": {},
            "source": "### 2.2 Data Cleaning\n\nThe data will be scrapped by the websites using **BeautifulSoup**. Unnecessary columns must be deleted and NaN values should be dropped. The postal codes and the location data must be merged in one table.\n\nTo create a new dataframe, the rows that are labeled as \"Italian restaurant\" need to sorted. Also, to visualize the demographics of the selected cluster, a new table needs to made based on Neighborhood ID. This table merges the cluster information from Foursquare API and the data collected for the 2016 Canada Census.\n"
        },
        {
            "cell_type": "code",
            "execution_count": null,
            "metadata": {},
            "outputs": [],
            "source": ""
        }
    ],
    "metadata": {
        "kernelspec": {
            "display_name": "Python 3.7",
            "language": "python",
            "name": "python3"
        },
        "language_info": {
            "codemirror_mode": {
                "name": "ipython",
                "version": 3
            },
            "file_extension": ".py",
            "mimetype": "text/x-python",
            "name": "python",
            "nbconvert_exporter": "python",
            "pygments_lexer": "ipython3",
            "version": "3.7.10"
        }
    },
    "nbformat": 4,
    "nbformat_minor": 1
}